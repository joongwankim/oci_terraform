{
  "nbformat": 4,
  "nbformat_minor": 0,
  "metadata": {
    "colab": {
      "name": "Chapter3_EDA.ipynb",
      "provenance": [],
      "authorship_tag": "ABX9TyOCmiQETQaKs4jZWmgp5ft1",
      "include_colab_link": true
    },
    "kernelspec": {
      "name": "python3",
      "display_name": "Python 3"
    },
    "language_info": {
      "name": "python"
    }
  },
  "cells": [
    {
      "cell_type": "markdown",
      "metadata": {
        "id": "view-in-github",
        "colab_type": "text"
      },
      "source": [
        "<a href=\"https://colab.research.google.com/github/joongwankim/oci_terraform/blob/Colab/Chapter3_EDA.ipynb\" target=\"_parent\"><img src=\"https://colab.research.google.com/assets/colab-badge.svg\" alt=\"Open In Colab\"/></a>"
      ]
    },
    {
      "cell_type": "markdown",
      "source": [
        "1.막대그래프"
      ],
      "metadata": {
        "id": "f6iXTdHbpIEx"
      }
    },
    {
      "cell_type": "code",
      "execution_count": 6,
      "metadata": {
        "id": "hc6WOA5TmkKf",
        "colab": {
          "base_uri": "https://localhost:8080/"
        },
        "outputId": "e362528d-fabe-40dd-ca27-7d66b39b4fa7"
      },
      "outputs": [
        {
          "output_type": "execute_result",
          "data": {
            "text/plain": [
              "Class_1    71\n",
              "Class_0    59\n",
              "Class_2    48\n",
              "Name: Class, dtype: int64"
            ]
          },
          "metadata": {},
          "execution_count": 6
        }
      ],
      "source": [
        "#데이터 가져오기\n",
        "import pandas as pd\n",
        "import matplotlib.pyplot as plt\n",
        "from sklearn.datasets import load_wine\n",
        "wine_load = load_wine()\n",
        "wine = pd.DataFrame(wine_load.data, columns = wine_load.feature_names)\n",
        "wine['Class'] = wine_load.target\n",
        "wine['Class'] = wine['Class'].map({0:'Class_0',1:'Class_1',2:'Class_2'})\n",
        "\n",
        "#도수분포표\n",
        "wine_type = wine['Class'].value_counts()\n",
        "wine_type"
      ]
    }
  ]
}